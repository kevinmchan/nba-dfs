{
 "cells": [
  {
   "cell_type": "markdown",
   "metadata": {},
   "source": [
    "# Daily Fantasy Model\n",
    "\n",
    "Build a model to predict daily fantasy scores and generate a lineup for upcoming games based on the model."
   ]
  },
  {
   "cell_type": "code",
   "execution_count": null,
   "metadata": {},
   "outputs": [],
   "source": [
    "%load_ext autoreload\n",
    "%autoreload 2"
   ]
  },
  {
   "cell_type": "code",
   "execution_count": null,
   "metadata": {
    "pycharm": {
     "is_executing": true
    }
   },
   "outputs": [],
   "source": [
    "from time import sleep\n",
    "from datetime import date\n",
    "\n",
    "import pandas as pd\n",
    "import numpy as np\n",
    "import pulp as plp\n",
    "from sklearn.model_selection import train_test_split\n",
    "from sklearn.pipeline import Pipeline\n",
    "from sklearn.linear_model import LinearRegression, RidgeCV, Ridge\n",
    "from sklearn.metrics import r2_score\n",
    "from xgboost import XGBRegressor\n",
    "import matplotlib.pyplot as plt "
   ]
  },
  {
   "cell_type": "code",
   "execution_count": null,
   "metadata": {},
   "outputs": [],
   "source": [
    "import transformations as trn\n",
    "import lineupselector as lns"
   ]
  },
  {
   "cell_type": "code",
   "execution_count": null,
   "metadata": {},
   "outputs": [],
   "source": [
    "pd.options.display.max_columns = 999"
   ]
  },
  {
   "cell_type": "markdown",
   "metadata": {
    "toc-hr-collapsed": true
   },
   "source": [
    "## Model build"
   ]
  },
  {
   "cell_type": "markdown",
   "metadata": {},
   "source": [
    "### Download features"
   ]
  },
  {
   "cell_type": "code",
   "execution_count": null,
   "metadata": {},
   "outputs": [],
   "source": [
    "features = pd.read_pickle(\"data/historical_features_and_targets.pkl\")"
   ]
  },
  {
   "cell_type": "code",
   "execution_count": null,
   "metadata": {},
   "outputs": [],
   "source": [
    "features_upcoming = pd.read_pickle(\"data/todays_lineup_features.pkl\")"
   ]
  },
  {
   "cell_type": "markdown",
   "metadata": {},
   "source": [
    "### Training and validation data"
   ]
  },
  {
   "cell_type": "code",
   "execution_count": null,
   "metadata": {},
   "outputs": [],
   "source": [
    "index = [\"player_id\", \"game_id\", \"team_id\", \"date\"]\n",
    "target = [\n",
    "    \"fta\", \"ftm\", \"fg2a\", \"fg2m\", \"fg3a\", \"fg3m\", \"non_scoring_pts\", \"minSeconds\",\n",
    "    \"ftp\", \"fg2p\", \"fg3p\", \"fta_per_min\", \"ftm_per_min\", \"fg2a_per_min\", \"fg2m_per_min\",\n",
    "    \"fg3a_per_min\", \"fg3m_per_min\", \"non_scoring_pts_per_min\", \"fanduel_score\"\n",
    "]"
   ]
  },
  {
   "cell_type": "code",
   "execution_count": null,
   "metadata": {},
   "outputs": [],
   "source": [
    "training, test = train_test_split(\n",
    "    features.sample(frac=1).sort_values(by=[\"game_id\"], ascending=False),\n",
    "    test_size=0.2,\n",
    "    shuffle=False\n",
    ")"
   ]
  },
  {
   "cell_type": "code",
   "execution_count": null,
   "metadata": {},
   "outputs": [],
   "source": [
    "preprocessor = Pipeline(\n",
    "    steps=[\n",
    "        ('drop_columns', trn.DropColumns(columns=index + target + [\"position\", \"firstName\", \"lastName\"])),\n",
    "        ('missingflag', trn.PandasMissingIndicator()),\n",
    "        ('imputer', trn.PandasImputer()),\n",
    "        ('scaler', trn.PandasStandardScalar()),\n",
    "        ('reduction', trn.PandasVarianceThreshold(threshold=0)),\n",
    "    ]\n",
    ")"
   ]
  },
  {
   "cell_type": "code",
   "execution_count": null,
   "metadata": {},
   "outputs": [],
   "source": [
    "training_inputs = preprocessor.fit_transform(training)\n",
    "test_inputs = preprocessor.transform(test)\n",
    "prediction_inputs = preprocessor.transform(features_upcoming)"
   ]
  },
  {
   "cell_type": "markdown",
   "metadata": {},
   "source": [
    "### Build models\n",
    "\n",
    "Build models for total fanduel score as well as per min stats and number of seconds played and compare results."
   ]
  },
  {
   "cell_type": "code",
   "execution_count": null,
   "metadata": {},
   "outputs": [],
   "source": [
    "models = {\n",
    "    stat: RidgeCV(alphas=[10**x for x in range(-3, 6+1)]).fit(training_inputs, training[stat])\n",
    "    for stat in [\n",
    "        \"minSeconds\", \"ftm_per_min\", \"fg2m_per_min\", \"fg3m_per_min\", \"non_scoring_pts_per_min\", \"fanduel_score\"\n",
    "    ]\n",
    "}"
   ]
  },
  {
   "cell_type": "code",
   "execution_count": null,
   "metadata": {},
   "outputs": [],
   "source": [
    "for stat, model in models.items():\n",
    "    training[f\"{stat}_prediction\"] = model.predict(training_inputs)\n",
    "    test[f\"{stat}_prediction\"] = model.predict(test_inputs)\n",
    "    features_upcoming[f\"{stat}_prediction\"] = model.predict(prediction_inputs)"
   ]
  },
  {
   "cell_type": "code",
   "execution_count": null,
   "metadata": {},
   "outputs": [],
   "source": [
    "def fanduel_score_composite(x, suffix=\"\"):\n",
    "    return (\n",
    "        (x[\"ftm_per_min\" + suffix] + 2 * x[\"fg2m_per_min\" + suffix] + 3 * x[\"fg3m_per_min\" + suffix] + x[\"non_scoring_pts_per_min\" + suffix])\n",
    "        * (x[\"minSeconds\" + suffix] / 60)\n",
    "    )\n",
    "\n",
    "training[\"fanduel_score_composite_prediction\"] = fanduel_score_composite(training, suffix=\"_prediction\")\n",
    "test[\"fanduel_score_composite_prediction\"] = fanduel_score_composite(test, suffix=\"_prediction\")\n",
    "features_upcoming[\"fanduel_score_composite_prediction\"] = fanduel_score_composite(features_upcoming, suffix=\"_prediction\")"
   ]
  },
  {
   "cell_type": "code",
   "execution_count": null,
   "metadata": {},
   "outputs": [],
   "source": [
    "model = RidgeCV(alphas=[10**x for x in range(-3, 6+1)]).fit(training_inputs, training[\"fanduel_score\"])"
   ]
  },
  {
   "cell_type": "code",
   "execution_count": null,
   "metadata": {},
   "outputs": [],
   "source": [
    "print(\"Model score on training: {}\".format(r2_score(training[\"fanduel_score\"], training[\"fanduel_score_prediction\"])))\n",
    "print(\"Model score on testing: {}\".format(r2_score(test[\"fanduel_score\"], test[\"fanduel_score_prediction\"])))"
   ]
  },
  {
   "cell_type": "code",
   "execution_count": null,
   "metadata": {},
   "outputs": [],
   "source": [
    "print(\"Model score on training: {}\".format(r2_score(training[\"fanduel_score\"], training[\"fanduel_score_composite_prediction\"])))\n",
    "print(\"Model score on testing: {}\".format(r2_score(test[\"fanduel_score\"], test[\"fanduel_score_composite_prediction\"])))"
   ]
  },
  {
   "cell_type": "markdown",
   "metadata": {},
   "source": [
    "### Feature importance"
   ]
  },
  {
   "cell_type": "code",
   "execution_count": null,
   "metadata": {},
   "outputs": [],
   "source": [
    "plt.figure(figsize=(50,5))\n",
    "(\n",
    "    pd.DataFrame(\n",
    "        zip(model.coef_, abs(model.coef_)),\n",
    "        columns=[\"coef\", \"abs_coef\"],\n",
    "        index= training_inputs.columns\n",
    "    )\n",
    "    .sort_values(by=[\"abs_coef\"], ascending=False)\n",
    "    [\"coef\"][0:]\n",
    "    .plot.bar()\n",
    ")"
   ]
  },
  {
   "cell_type": "markdown",
   "metadata": {},
   "source": [
    "## Examine model calibration"
   ]
  },
  {
   "cell_type": "code",
   "execution_count": null,
   "metadata": {},
   "outputs": [],
   "source": [
    "(\n",
    "    training\n",
    "    .assign(prediction_bin=lambda x: pd.qcut(x[\"fanduel_score_prediction\"], 25))\n",
    "    .assign(residual=lambda x: x[\"fanduel_score_prediction\"] - x[\"fanduel_score\"])\n",
    "    .groupby(\"prediction_bin\")[\"residual\"].mean()\n",
    "    .plot.bar(title=\"Training residuals by prediction bins\")\n",
    ")"
   ]
  },
  {
   "cell_type": "code",
   "execution_count": null,
   "metadata": {},
   "outputs": [],
   "source": [
    "(\n",
    "    test\n",
    "    .assign(prediction_bin=lambda x: pd.qcut(x[\"fanduel_score_prediction\"], 25))\n",
    "    .assign(residual=lambda x: x[\"fanduel_score_prediction\"] - x[\"fanduel_score\"])\n",
    "    .groupby(\"prediction_bin\")[\"residual\"].mean()\n",
    "    .plot.bar(title=\"Test residuals by prediction bins\")\n",
    ")"
   ]
  },
  {
   "cell_type": "markdown",
   "metadata": {},
   "source": [
    "### Manual override nba lineups"
   ]
  },
  {
   "cell_type": "markdown",
   "metadata": {},
   "source": [
    "Some players are listed in different positions on mysportsfeed versus fanduel. Note that fanduel player positions may change on a day-to-day basis."
   ]
  },
  {
   "cell_type": "code",
   "execution_count": null,
   "metadata": {},
   "outputs": [],
   "source": [
    "features_upcoming = (\n",
    "    features_upcoming\n",
    "    .pipe(trn.update_position, 9151, \"C\")\n",
    "    .pipe(trn.update_position, 9476, \"PF\")\n",
    "    .pipe(trn.update_position, 15208, \"SG\")\n",
    "    .pipe(trn.update_position, 9170, \"SG\")\n",
    "    .pipe(trn.update_position, 10090, \"SF\")\n",
    "    .pipe(trn.update_position, 9107, \"SF\")\n",
    "    .pipe(trn.update_position, 9369, \"SF\")\n",
    "    .pipe(trn.update_position, 9170, \"SG\")\n",
    "    .pipe(trn.update_position, 9244, \"C\")\n",
    "    .pipe(trn.update_position, 17286, \"SF\")\n",
    "    .pipe(trn.update_position, 9475, \"SG\")\n",
    "    .pipe(trn.update_position, 13786, \"SG\")\n",
    "    .pipe(trn.update_position, 9507, \"SF\")\n",
    "    .pipe(trn.update_position, 13791, \"PG\")\n",
    "    .pipe(trn.update_position, 15211, \"PF\")\n",
    "    .query(\"position == position\")\n",
    ")"
   ]
  },
  {
   "cell_type": "markdown",
   "metadata": {},
   "source": [
    "Manually add players on a blocklist to prevent inclusion in the optimal lineup e.g. if there is breaking news of an injury, minutes restriction, etc."
   ]
  },
  {
   "cell_type": "code",
   "execution_count": null,
   "metadata": {},
   "outputs": [],
   "source": [
    "blocklisted = [\n",
    "    9523,  # Bradley Beal\n",
    "    9157,  # Kyrie Irving\n",
    "    9285,  # D'lo Russel\n",
    "    9354,  # Anthony Davis\n",
    "    9250,  # Paul George\n",
    "    17286,  # Kevin Porter\n",
    "    10120,  # Henry Ellenson\n",
    "    9158,  # Lebron James\n",
    "    9286,  # Larry Nance\n",
    "]\n",
    "features_upcoming[\"blocklisted\"] = features_upcoming.player_id.isin(blocklisted).astype(int)"
   ]
  },
  {
   "cell_type": "markdown",
   "metadata": {},
   "source": [
    "## Fantasy lineup optimization"
   ]
  },
  {
   "cell_type": "code",
   "execution_count": null,
   "metadata": {},
   "outputs": [],
   "source": [
    "features_upcoming[\"selection\"] = lns.FanDuelOptimizer(target=\"fanduel_score_prediction\").add_lineup_selection(features_upcoming)"
   ]
  },
  {
   "cell_type": "code",
   "execution_count": null,
   "metadata": {},
   "outputs": [],
   "source": [
    "features_upcoming.query(\"blocklisted == 1\")"
   ]
  },
  {
   "cell_type": "code",
   "execution_count": null,
   "metadata": {},
   "outputs": [],
   "source": [
    "features_upcoming.query(\"selection == 1\")[\"fanduel_score_prediction\"].sum(), features_upcoming.query(\"selection == 1\")[\"salary\"].sum()"
   ]
  },
  {
   "cell_type": "code",
   "execution_count": null,
   "metadata": {},
   "outputs": [],
   "source": [
    "features_upcoming.query(\"selection == 1\").sort_values(by=[\"position\"])[[\"player_id\", \"game_id\", \"team_id\", \"firstName\", \"lastName\", \"position\", \"salary\", \"fanduel_score_prediction\"]]"
   ]
  },
  {
   "cell_type": "code",
   "execution_count": null,
   "metadata": {},
   "outputs": [],
   "source": [
    "(\n",
    "    features_upcoming\n",
    "    .sort_values(by=[\"fanduel_score_prediction\"], ascending=False)\n",
    "    .head(10)\n",
    "    [[\"player_id\", \"game_id\", \"team_id\", \"firstName\", \"lastName\", \"fanduel_score_prediction\"]]\n",
    ")"
   ]
  },
  {
   "cell_type": "markdown",
   "metadata": {},
   "source": [
    "## Historical performance validation"
   ]
  },
  {
   "cell_type": "code",
   "execution_count": null,
   "metadata": {},
   "outputs": [],
   "source": [
    "selections = (\n",
    "    test\n",
    "    .query(\"salary == salary\")\n",
    "    .assign(blocklisted=0)\n",
    "    .assign(game_day=lambda x: x.date.dt.strftime(\"%Y%m%d\"))\n",
    "    .groupby([\"game_day\"])\n",
    "    .apply(lambda x: x.assign(selection=lns.FanDuelOptimizer(target=\"fanduel_score_prediction\").add_lineup_selection))\n",
    "    .reset_index(drop=True)\n",
    ")"
   ]
  },
  {
   "cell_type": "code",
   "execution_count": null,
   "metadata": {},
   "outputs": [],
   "source": [
    "(\n",
    "    selections\n",
    "    .query(\"selection == 1\")\n",
    "    .groupby([\"game_day\"])[[\"fanduel_score_prediction\", \"fanduel_score\"]]\n",
    "    .sum()\n",
    "    .assign(**{f\"above_{limit}\": lambda x: (x[\"fanduel_score\"] > limit).astype(int) for limit in range(260, 401, 10)})\n",
    "    .describe()\n",
    ")"
   ]
  },
  {
   "cell_type": "code",
   "execution_count": null,
   "metadata": {},
   "outputs": [],
   "source": [
    "(\n",
    "    selections\n",
    "    .query(\"selection == 1\")\n",
    "    .groupby([\"game_day\"])[[\"fanduel_score_prediction\", \"fanduel_score\"]]\n",
    "    .sum()\n",
    "    .assign(diff=lambda x: x[\"fanduel_score_prediction\"] - x[\"fanduel_score\"])\n",
    "    .assign(diff_deciles=lambda x: pd.qcut(x[\"diff\"], 20))\n",
    "    [\"diff_deciles\"]\n",
    "    .value_counts()\n",
    "    .sort_index()\n",
    ")"
   ]
  }
 ],
 "metadata": {
  "kernelspec": {
   "display_name": "Python [conda env:nbadfs]",
   "language": "python",
   "name": "conda-env-nbadfs-py"
  },
  "language_info": {
   "codemirror_mode": {
    "name": "ipython",
    "version": 3
   },
   "file_extension": ".py",
   "mimetype": "text/x-python",
   "name": "python",
   "nbconvert_exporter": "python",
   "pygments_lexer": "ipython3",
   "version": "3.8.5"
  },
  "pycharm": {
   "stem_cell": {
    "cell_type": "raw",
    "metadata": {
     "collapsed": false
    },
    "source": []
   }
  }
 },
 "nbformat": 4,
 "nbformat_minor": 4
}
