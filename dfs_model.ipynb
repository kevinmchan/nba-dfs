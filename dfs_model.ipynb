{
 "cells": [
  {
   "cell_type": "markdown",
   "metadata": {},
   "source": [
    "# Daily Fantasy Model"
   ]
  },
  {
   "cell_type": "code",
   "execution_count": null,
   "metadata": {},
   "outputs": [],
   "source": [
    "%load_ext autoreload\n",
    "%autoreload 2"
   ]
  },
  {
   "cell_type": "code",
   "execution_count": null,
   "metadata": {
    "pycharm": {
     "is_executing": true
    }
   },
   "outputs": [],
   "source": [
    "from time import sleep\n",
    "from datetime import date\n",
    "\n",
    "import pandas as pd\n",
    "import numpy as np\n",
    "import pulp as plp\n",
    "from sklearn.model_selection import train_test_split\n",
    "from sklearn.pipeline import Pipeline\n",
    "from sklearn.linear_model import LinearRegression, RidgeCV, Ridge\n",
    "from sklearn.metrics import r2_score\n",
    "from xgboost import XGBRegressor\n",
    "import matplotlib.pyplot as plt "
   ]
  },
  {
   "cell_type": "code",
   "execution_count": null,
   "metadata": {},
   "outputs": [],
   "source": [
    "import transformations as trn\n",
    "import lineupselector as lns"
   ]
  },
  {
   "cell_type": "code",
   "execution_count": null,
   "metadata": {},
   "outputs": [],
   "source": [
    "pd.options.display.max_columns = 999"
   ]
  },
  {
   "cell_type": "markdown",
   "metadata": {
    "toc-hr-collapsed": true
   },
   "source": [
    "## Model build"
   ]
  },
  {
   "cell_type": "markdown",
   "metadata": {},
   "source": [
    "### Download features"
   ]
  },
  {
   "cell_type": "code",
   "execution_count": null,
   "metadata": {},
   "outputs": [],
   "source": [
    "features = pd.read_pickle(\"data/historical_features_and_targets.pkl\")"
   ]
  },
  {
   "cell_type": "code",
   "execution_count": null,
   "metadata": {},
   "outputs": [],
   "source": [
    "features_upcoming = pd.read_pickle(\"data/todays_lineup_features.pkl\")"
   ]
  },
  {
   "cell_type": "markdown",
   "metadata": {},
   "source": [
    "### Training and validation data"
   ]
  },
  {
   "cell_type": "code",
   "execution_count": null,
   "metadata": {},
   "outputs": [],
   "source": [
    "index = [\"player_id\", \"game_id\", \"team_id\", \"date\"]\n",
    "target = [\"fg3m\", \"reb\", \"ast\", \"pts\", \"tov\", \"stl\", \"blk\", \"ftm\", \"fgm\", \"fanduel_score\"]"
   ]
  },
  {
   "cell_type": "code",
   "execution_count": null,
   "metadata": {},
   "outputs": [],
   "source": [
    "training, test = train_test_split(\n",
    "    features.sample(frac=1).sort_values(by=[\"game_id\"], ascending=False),\n",
    "    test_size=0.2,\n",
    "    shuffle=False\n",
    ")"
   ]
  },
  {
   "cell_type": "code",
   "execution_count": null,
   "metadata": {},
   "outputs": [],
   "source": [
    "# training = (\n",
    "#     training\n",
    "#     .assign(avg_fd_score=lambda x: x.groupby([\"player_id\"])[\"fanduel_score\"].transform(\"mean\"))\n",
    "#     .query(\"avg_fd_score > 15\")\n",
    "#     .drop(columns=[\"avg_fd_score\"])\n",
    "# )"
   ]
  },
  {
   "cell_type": "code",
   "execution_count": null,
   "metadata": {},
   "outputs": [],
   "source": [
    "preprocessor = Pipeline(\n",
    "    steps=[\n",
    "        ('drop_columns', trn.DropColumns(columns=index + target + [\"position\", \"firstName\", \"lastName\"])),\n",
    "        ('missingflag', trn.PandasMissingIndicator()),\n",
    "        ('imputer', trn.PandasImputer()),\n",
    "        ('scaler', trn.PandasStandardScalar()),\n",
    "        ('reduction', trn.PandasVarianceThreshold(threshold=0)),\n",
    "    ]\n",
    ")"
   ]
  },
  {
   "cell_type": "code",
   "execution_count": null,
   "metadata": {},
   "outputs": [],
   "source": [
    "training_inputs = preprocessor.fit_transform(training)\n",
    "test_inputs = preprocessor.transform(test)\n",
    "prediction_inputs = preprocessor.transform(features_upcoming)"
   ]
  },
  {
   "cell_type": "markdown",
   "metadata": {},
   "source": [
    "### Build models"
   ]
  },
  {
   "cell_type": "code",
   "execution_count": null,
   "metadata": {},
   "outputs": [],
   "source": [
    "model = RidgeCV(alphas=[10**x for x in range(-3, 6+1)]).fit(training_inputs, training[\"fanduel_score\"])\n",
    "print(\"Model score on training: {} with alpha: {}\".format(model.score(training_inputs, training[\"fanduel_score\"]), model.alpha_))\n",
    "print(\"Model score on testing: {}\".format(model.score(test_inputs, test[\"fanduel_score\"])))"
   ]
  },
  {
   "cell_type": "code",
   "execution_count": null,
   "metadata": {},
   "outputs": [],
   "source": [
    "plt.figure(figsize=(50,5))\n",
    "(\n",
    "    pd.DataFrame(\n",
    "        zip(model.coef_, abs(model.coef_)),\n",
    "        columns=[\"coef\", \"abs_coef\"],\n",
    "        index= training_inputs.columns\n",
    "    )\n",
    "    .sort_values(by=[\"abs_coef\"], ascending=False)\n",
    "    [\"coef\"][0:]\n",
    "    .plot.bar()\n",
    ")"
   ]
  },
  {
   "cell_type": "markdown",
   "metadata": {},
   "source": [
    "### Add fanduel predictions"
   ]
  },
  {
   "cell_type": "code",
   "execution_count": null,
   "metadata": {},
   "outputs": [],
   "source": [
    "training[\"fanduel_score_prediction\"] = model.predict(training_inputs)\n",
    "test[\"fanduel_score_prediction\"] = model.predict(test_inputs)\n",
    "features_upcoming[\"fanduel_score_prediction\"] = model.predict(prediction_inputs)"
   ]
  },
  {
   "cell_type": "markdown",
   "metadata": {},
   "source": [
    "## Model calibration"
   ]
  },
  {
   "cell_type": "code",
   "execution_count": null,
   "metadata": {},
   "outputs": [],
   "source": [
    "(\n",
    "    training\n",
    "    .assign(prediction_bin=lambda x: pd.qcut(x[\"fanduel_score_prediction\"], 25))\n",
    "    .assign(residual=lambda x: x[\"fanduel_score_prediction\"] - x[\"fanduel_score\"])\n",
    "    .groupby(\"prediction_bin\")[\"residual\"].mean()\n",
    "    .plot.bar(title=\"Training residuals by prediction bins\")\n",
    ")"
   ]
  },
  {
   "cell_type": "code",
   "execution_count": null,
   "metadata": {},
   "outputs": [],
   "source": [
    "(\n",
    "    test\n",
    "    .assign(prediction_bin=lambda x: pd.qcut(x[\"fanduel_score_prediction\"], 25))\n",
    "    .assign(residual=lambda x: x[\"fanduel_score_prediction\"] - x[\"fanduel_score\"])\n",
    "    .groupby(\"prediction_bin\")[\"residual\"].mean()\n",
    "    .plot.bar(title=\"Test residuals by prediction bins\")\n",
    ")"
   ]
  },
  {
   "cell_type": "markdown",
   "metadata": {},
   "source": [
    "## Fantasy lineup optimization"
   ]
  },
  {
   "cell_type": "code",
   "execution_count": null,
   "metadata": {},
   "outputs": [],
   "source": [
    "features_upcoming = (\n",
    "    features_upcoming\n",
    "    .pipe(trn.update_position, 9151, \"C\")\n",
    "    .pipe(trn.update_position, 9476, \"PG\")\n",
    "    .pipe(trn.update_position, 15208, \"SG\")\n",
    "    .pipe(trn.update_position, 9170, \"SG\")\n",
    "    .pipe(trn.update_position, 10090, \"SF\")\n",
    "    .pipe(trn.update_position, 9107, \"SF\")\n",
    "    .pipe(trn.update_position, 9369, \"SF\")\n",
    "    .pipe(trn.update_position, 9170, \"SG\")\n",
    "    .pipe(trn.update_position, 9244, \"C\")\n",
    "    .pipe(trn.update_position, 17286, \"SF\")\n",
    "    .query(\"position == position\")\n",
    ")"
   ]
  },
  {
   "cell_type": "code",
   "execution_count": null,
   "metadata": {},
   "outputs": [],
   "source": [
    "blacklisted = (\n",
    "    features_upcoming.query(\"game_id in (0,)\")[\"player_id\"].to_list()\n",
    "    + [\n",
    "#         9523,  # Bradley Beal\n",
    "#         9157,  # Kyrie Irving\n",
    "#         9285,  # D'lo Russel\n",
    "#         9354, # Anthony Davis\n",
    "#         9250, # Paul George\n",
    "#         17286, # Kevin Porter\n",
    "#         10120,  # Henry Ellenson\n",
    "#         9158,  # Lebron James\n",
    "    ]\n",
    ")\n",
    "features_upcoming[\"blacklisted\"] = features_upcoming.player_id.isin(blacklisted).astype(int)\n",
    "features_upcoming[\"selection\"] = lns.FanDuelOptimizer(target=\"fanduel_score_prediction\").add_lineup_selection(features_upcoming)"
   ]
  },
  {
   "cell_type": "code",
   "execution_count": null,
   "metadata": {},
   "outputs": [],
   "source": [
    "features_upcoming.query(\"blacklisted == 1\")"
   ]
  },
  {
   "cell_type": "code",
   "execution_count": null,
   "metadata": {},
   "outputs": [],
   "source": [
    "features_upcoming.query(\"selection == 1\")[\"fanduel_score_prediction\"].sum(), features_upcoming.query(\"selection == 1\")[\"salary\"].sum()"
   ]
  },
  {
   "cell_type": "code",
   "execution_count": null,
   "metadata": {},
   "outputs": [],
   "source": [
    "features_upcoming.query(\"selection == 1\").sort_values(by=[\"position\"])[[\"player_id\", \"game_id\", \"team_id\", \"firstName\", \"lastName\", \"position\", \"salary\", \"fanduel_score_prediction\"]]"
   ]
  },
  {
   "cell_type": "code",
   "execution_count": null,
   "metadata": {},
   "outputs": [],
   "source": [
    "(\n",
    "    features_upcoming\n",
    "    .sort_values(by=[\"fanduel_score_prediction\"], ascending=False)\n",
    "    .head(10)\n",
    "    [[\"player_id\", \"game_id\", \"team_id\", \"firstName\", \"lastName\", \"fanduel_score_prediction\"]]\n",
    ")"
   ]
  },
  {
   "cell_type": "markdown",
   "metadata": {},
   "source": [
    "## Historical performance validation"
   ]
  },
  {
   "cell_type": "code",
   "execution_count": null,
   "metadata": {},
   "outputs": [],
   "source": [
    "selections = (\n",
    "    test\n",
    "    .query(\"salary == salary\")\n",
    "    .assign(blacklisted=0)\n",
    "    .assign(game_day=lambda x: x.date.dt.strftime(\"%Y%m%d\"))\n",
    "    .groupby([\"game_day\"])\n",
    "    .apply(lambda x: x.assign(selection=lns.FanDuelOptimizer(target=\"fanduel_score_prediction\").add_lineup_selection))\n",
    "    .reset_index(drop=True)\n",
    ")"
   ]
  },
  {
   "cell_type": "code",
   "execution_count": null,
   "metadata": {},
   "outputs": [],
   "source": [
    "(\n",
    "    selections\n",
    "    .query(\"selection == 1\")\n",
    "    .groupby([\"game_day\"])[[\"fanduel_score_prediction\", \"fanduel_score\"]]\n",
    "    .sum()\n",
    "    .assign(above_260=lambda x: (x[\"fanduel_score\"] > 260).astype(int))\n",
    "    .assign(above_270=lambda x: (x[\"fanduel_score\"] > 270).astype(int))\n",
    "    .assign(above_280=lambda x: (x[\"fanduel_score\"] > 280).astype(int))\n",
    "    .assign(above_290=lambda x: (x[\"fanduel_score\"] > 290).astype(int))\n",
    "    .assign(above_300=lambda x: (x[\"fanduel_score\"] > 300).astype(int))\n",
    "    .assign(above_310=lambda x: (x[\"fanduel_score\"] > 310).astype(int))\n",
    "    .assign(above_320=lambda x: (x[\"fanduel_score\"] > 320).astype(int))\n",
    "    .describe()\n",
    ")"
   ]
  },
  {
   "cell_type": "code",
   "execution_count": null,
   "metadata": {},
   "outputs": [],
   "source": [
    "(\n",
    "    selections\n",
    "    .query(\"selection == 1\")\n",
    "    .groupby([\"game_day\"])[[\"fanduel_score_prediction\", \"fanduel_score\"]]\n",
    "    .sum()\n",
    "    .assign(diff=lambda x: x[\"fanduel_score_prediction\"] - x[\"fanduel_score\"])\n",
    "    .assign(diff_deciles=lambda x: pd.qcut(x[\"diff\"], 20))\n",
    "    [\"diff_deciles\"]\n",
    "    .value_counts()\n",
    "    .sort_index()\n",
    ")"
   ]
  },
  {
   "cell_type": "code",
   "execution_count": null,
   "metadata": {},
   "outputs": [],
   "source": []
  }
 ],
 "metadata": {
  "kernelspec": {
   "display_name": "Python [conda env:mysportsfeeds]",
   "language": "python",
   "name": "conda-env-mysportsfeeds-py"
  },
  "language_info": {
   "codemirror_mode": {
    "name": "ipython",
    "version": 3
   },
   "file_extension": ".py",
   "mimetype": "text/x-python",
   "name": "python",
   "nbconvert_exporter": "python",
   "pygments_lexer": "ipython3",
   "version": "3.7.5"
  },
  "pycharm": {
   "stem_cell": {
    "cell_type": "raw",
    "metadata": {
     "collapsed": false
    },
    "source": []
   }
  }
 },
 "nbformat": 4,
 "nbformat_minor": 4
}
